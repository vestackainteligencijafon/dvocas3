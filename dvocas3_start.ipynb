{
 "cells": [
  {
   "metadata": {},
   "cell_type": "markdown",
   "source": "# Dvocas 3",
   "id": "8a77807f92f26ee"
  },
  {
   "metadata": {
    "ExecuteTime": {
     "end_time": "2025-06-10T00:43:54.750718Z",
     "start_time": "2025-06-10T00:43:54.746817Z"
    }
   },
   "cell_type": "code",
   "source": [
    "# Import potrebnih biblioteka\n",
    "import pandas as pd\n",
    "import matplotlib.pyplot as plt\n",
    "import seaborn as sb\n"
   ],
   "id": "7df9140457caed5e",
   "outputs": [],
   "execution_count": 1
  },
  {
   "metadata": {},
   "cell_type": "markdown",
   "source": "### Učitvanje seta podataka",
   "id": "2e44cfe2f556cba1"
  },
  {
   "metadata": {
    "collapsed": true,
    "ExecuteTime": {
     "end_time": "2025-06-10T00:43:56.524384Z",
     "start_time": "2025-06-10T00:43:56.521876Z"
    }
   },
   "cell_type": "code",
   "source": "# Load dataset",
   "id": "initial_id",
   "outputs": [],
   "execution_count": 3
  },
  {
   "metadata": {},
   "cell_type": "markdown",
   "source": "### Pregled seta podataka\n",
   "id": "62a8c026dc794d85"
  },
  {
   "metadata": {
    "ExecuteTime": {
     "end_time": "2025-06-10T00:44:06.413907Z",
     "start_time": "2025-06-10T00:44:06.410979Z"
    }
   },
   "cell_type": "code",
   "source": [
    "# Prikaži prvih nekoliko redova\n",
    "\n",
    "# Proveri osnovne informacije i tipove podataka\n",
    "\n",
    "# Proveri deskriptivnu statistiku\n"
   ],
   "id": "e65e58a1b7e04493",
   "outputs": [],
   "execution_count": 5
  },
  {
   "metadata": {},
   "cell_type": "markdown",
   "source": "### Kreiranje i prikaz korelacione matrice",
   "id": "8556009fb6653fd6"
  },
  {
   "metadata": {
    "ExecuteTime": {
     "end_time": "2025-06-10T00:44:09.610794Z",
     "start_time": "2025-06-10T00:44:09.608359Z"
    }
   },
   "cell_type": "code",
   "source": "# Kreiraj korelacionu matricu\n",
   "id": "741f77ce93fabbc8",
   "outputs": [],
   "execution_count": 6
  },
  {
   "metadata": {},
   "cell_type": "markdown",
   "source": "### Jednostavna linearna regresija: Predikcija `medv` na osnovu `lstat`",
   "id": "b3333d9dec3d6f35"
  },
  {
   "metadata": {
    "ExecuteTime": {
     "end_time": "2025-06-10T00:29:27.510001Z",
     "start_time": "2025-06-10T00:29:27.502723Z"
    }
   },
   "cell_type": "code",
   "source": [
    "from sklearn.model_selection import train_test_split\n",
    "import statsmodels.formula.api as smf\n",
    "\n",
    "# Podela podataka: 80% train, 20% test\n",
    "\n",
    "# Treniranje modela na trening skupu\n",
    "\n",
    "\n"
   ],
   "id": "9357480ebbec3bd1",
   "outputs": [],
   "execution_count": 31
  },
  {
   "metadata": {
    "ExecuteTime": {
     "end_time": "2025-06-10T00:45:08.384703Z",
     "start_time": "2025-06-10T00:45:08.382194Z"
    }
   },
   "cell_type": "code",
   "source": [
    "### Analiza modela jednostavne linearne regresije ###\n",
    "\n",
    "# Prikaz sažetka modela (ekvivalent `summary(lm1)` iz R-a)\n",
    "\n",
    "\n",
    "# Prikaz svih atributa modela (kao `names(lm1)`)\n",
    "\n",
    "\n",
    "# Prikaz koeficijenata (kao `lm1$coefficients` i `coef(lm1)`)\n",
    "\n",
    "\n",
    "# Izračunavanje RSS (Residual Sum of Squares)\n",
    "\n",
    "\n",
    "# Konfidencioni intervali za koeficijente (ekvivalent `confint(lm1)`)\n",
    "\n",
    "\n",
    "# Prikaz podataka i regresione linije\n",
    "\n"
   ],
   "id": "83079bf19f804508",
   "outputs": [],
   "execution_count": 7
  },
  {
   "metadata": {},
   "cell_type": "markdown",
   "source": "### Pravljenje predikcija i prikaz rezultata",
   "id": "99195541db51c801"
  },
  {
   "metadata": {
    "ExecuteTime": {
     "end_time": "2025-06-10T00:45:14.007541Z",
     "start_time": "2025-06-10T00:45:14.004539Z"
    }
   },
   "cell_type": "code",
   "source": [
    "# Napravi predikcije za test skup\n",
    "\n",
    "\n",
    "# Prikaz prvih 10 redova sa stvarnim i predikovanim vrednostima\n",
    "\n"
   ],
   "id": "9bf262328da8b6bc",
   "outputs": [],
   "execution_count": 8
  },
  {
   "metadata": {},
   "cell_type": "markdown",
   "source": "### Diganostički grafikoni",
   "id": "73c0c0a9855613d6"
  },
  {
   "metadata": {
    "ExecuteTime": {
     "end_time": "2025-06-10T00:45:21.460148Z",
     "start_time": "2025-06-10T00:45:18.823740Z"
    }
   },
   "cell_type": "code",
   "source": [
    "import statsmodels.api as sm\n",
    "\n",
    "# Podešavanje rasporeda subplotova (2x2)\n"
   ],
   "id": "951d81a5b0da254d",
   "outputs": [],
   "execution_count": 9
  }
 ],
 "metadata": {
  "kernelspec": {
   "display_name": "Python 3",
   "language": "python",
   "name": "python3"
  },
  "language_info": {
   "codemirror_mode": {
    "name": "ipython",
    "version": 2
   },
   "file_extension": ".py",
   "mimetype": "text/x-python",
   "name": "python",
   "nbconvert_exporter": "python",
   "pygments_lexer": "ipython2",
   "version": "2.7.6"
  }
 },
 "nbformat": 4,
 "nbformat_minor": 5
}
