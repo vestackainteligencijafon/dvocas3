{
 "cells": [
  {
   "metadata": {},
   "cell_type": "markdown",
   "source": "# Dvocas 3",
   "id": "8a77807f92f26ee"
  },
  {
   "metadata": {
    "ExecuteTime": {
     "end_time": "2025-06-10T00:43:54.750718Z",
     "start_time": "2025-06-10T00:43:54.746817Z"
    }
   },
   "cell_type": "code",
   "source": [
    "# Import potrebnih biblioteka\n",
    "import pandas as pd\n",
    "import numpy as np\n",
    "import matplotlib.pyplot as plt\n",
    "import seaborn as sb\n",
    "import statsmodels.api as sm"
   ],
   "id": "7df9140457caed5e",
   "outputs": [],
   "execution_count": 1
  },
  {
   "metadata": {},
   "cell_type": "markdown",
   "source": "### Učitvanje seta podataka",
   "id": "2e44cfe2f556cba1"
  },
  {
   "metadata": {
    "collapsed": true,
    "ExecuteTime": {
     "end_time": "2025-06-10T00:43:56.524384Z",
     "start_time": "2025-06-10T00:43:56.521876Z"
    }
   },
   "cell_type": "code",
   "source": [
    "# Load dataset\n",
    "\n",
    "\n",
    "# crim: Stopa kriminala po glavi stanovnika u naselju\n",
    "# zn: Procenat velikih stambenih parcela (preko 25.000 kvadratnih stopa)\n",
    "# indus: Procenat površina namenjenih nestambenim poslovnim zonama u naselju\n",
    "# chas: Da li se nekretnina nalazi pored reke Charles (1 = da, 0 = ne)\n",
    "# nox: Koncentracija azotnih oksida u vazduhu (zagađenje)\n",
    "# rm: Prosečan broj soba po stambenoj jedinici\n",
    "# age: Procenat starih stanova (izgrađenih pre 1940) koje vlasnici koriste\n",
    "# dis: Prosečna udaljenost do poslovnih centara u Bostonu (ponderisana)\n",
    "# rad: Indeks pristupa autoputevima (radijalnim)\n",
    "# tax: Godišnji porez na imovinu po 10.000 dolara vrednosti\n",
    "# lstat: Procenat stanovništva niže socioekonomske klase (eng. lower status).\n",
    "# medv: Medijana vrednosti kuća u naselju (u hiljadama dolara). Ovo je često zavisna varijabla u analizama.\n",
    "# ptratio: Odnos broja učenika i nastavnika u osnovnim i srednjim školama u naselju (pupil-teacher ratio).\n"
   ],
   "id": "initial_id",
   "outputs": [],
   "execution_count": 3
  },
  {
   "metadata": {},
   "cell_type": "markdown",
   "source": "### Pregled seta podataka\n",
   "id": "62a8c026dc794d85"
  },
  {
   "metadata": {
    "ExecuteTime": {
     "end_time": "2025-06-10T00:44:06.413907Z",
     "start_time": "2025-06-10T00:44:06.410979Z"
    }
   },
   "cell_type": "code",
   "source": [
    "# Prikaži prvih nekoliko redova\n",
    "\n",
    "# Proveri osnovne informacije i tipove podataka\n",
    "\n",
    "# Proveri deskriptivnu statistiku\n"
   ],
   "id": "e65e58a1b7e04493",
   "outputs": [],
   "execution_count": 5
  },
  {
   "metadata": {},
   "cell_type": "markdown",
   "source": "### Kreiranje i prikaz korelacione matrice",
   "id": "8556009fb6653fd6"
  },
  {
   "metadata": {
    "ExecuteTime": {
     "end_time": "2025-06-10T00:44:09.610794Z",
     "start_time": "2025-06-10T00:44:09.608359Z"
    }
   },
   "cell_type": "code",
   "source": "# Kreiraj korelacionu matricu\n",
   "id": "741f77ce93fabbc8",
   "outputs": [],
   "execution_count": 6
  },
  {
   "metadata": {},
   "cell_type": "markdown",
   "source": "### Jednostavna linearna regresija: Predikcija `medv` na osnovu `lstat`",
   "id": "b3333d9dec3d6f35"
  },
  {
   "metadata": {
    "ExecuteTime": {
     "end_time": "2025-06-10T00:29:27.510001Z",
     "start_time": "2025-06-10T00:29:27.502723Z"
    }
   },
   "cell_type": "code",
   "source": [
    "from sklearn.model_selection import train_test_split\n",
    "import statsmodels.formula.api as smf\n",
    "\n",
    "# Podela podataka: 80% train, 20% test\n",
    "\n",
    "# Treniranje modela na trening skupu\n",
    "\n",
    "\n"
   ],
   "id": "9357480ebbec3bd1",
   "outputs": [],
   "execution_count": 31
  },
  {
   "metadata": {
    "ExecuteTime": {
     "end_time": "2025-06-10T00:45:08.384703Z",
     "start_time": "2025-06-10T00:45:08.382194Z"
    }
   },
   "cell_type": "code",
   "source": [
    "### Analiza modela jednostavne linearne regresije ###\n",
    "\n",
    "# Prikaz sažetka modela (ekvivalent `summary(lm1)` iz R-a)\n",
    "\n",
    "\n",
    "# Prikaz svih atributa modela (kao `names(lm1)`)\n",
    "\n",
    "\n",
    "# Prikaz koeficijenata (kao `lm1$coefficients` i `coef(lm1)`)\n",
    "\n",
    "\n",
    "# Izračunavanje RSS (Residual Sum of Squares)\n",
    "\n",
    "\n",
    "# Konfidencioni intervali za koeficijente (ekvivalent `confint(lm1)`)\n",
    "\n",
    "\n",
    "# Prikaz podataka i regresione linije\n",
    "\n"
   ],
   "id": "83079bf19f804508",
   "outputs": [],
   "execution_count": 7
  },
  {
   "metadata": {},
   "cell_type": "markdown",
   "source": "### Pravljenje predikcija i prikaz rezultata",
   "id": "99195541db51c801"
  },
  {
   "metadata": {
    "ExecuteTime": {
     "end_time": "2025-06-10T00:45:14.007541Z",
     "start_time": "2025-06-10T00:45:14.004539Z"
    }
   },
   "cell_type": "code",
   "source": [
    "# Napravi predikcije za test skup\n",
    "\n",
    "\n",
    "# Prikaz prvih 10 redova sa stvarnim i predikovanim vrednostima\n",
    "\n"
   ],
   "id": "9bf262328da8b6bc",
   "outputs": [],
   "execution_count": 8
  },
  {
   "metadata": {},
   "cell_type": "markdown",
   "source": "### Dijagnostički grafikoni",
   "id": "73c0c0a9855613d6"
  },
  {
   "metadata": {
    "ExecuteTime": {
     "end_time": "2025-06-10T00:45:21.460148Z",
     "start_time": "2025-06-10T00:45:18.823740Z"
    }
   },
   "cell_type": "code",
   "source": [
    "# Residuals vs Fitted\n",
    "# plt.scatter(model_sm.fittedvalues, model_sm.resid)\n",
    "# plt.axhline(0, color='gray', linestyle='--')\n",
    "# plt.xlabel(\"Fitted values\")\n",
    "# plt.ylabel(\"Residuals\")\n",
    "# plt.title(\"Residuals vs Fitted\")\n",
    "# plt.show()\n",
    "\n",
    "# Normal Q-Q (širi graf da linija deluje blaže)\n",
    "# sm.qqplot(model_sm.resid, line='45', fit=True)\n",
    "# plt.gcf().set_size_inches(8, 4)\n",
    "# plt.title(\"Normal Q-Q (adjusted aspect)\")\n",
    "# plt.show()\n",
    "\n",
    "# Scale-Location\n",
    "# influence = model_sm.get_influence()\n",
    "# std_resid = influence.resid_studentized_internal\n",
    "# abs_sqrt_resid = np.sqrt(np.abs(std_resid))\n",
    "#\n",
    "# plt.scatter(model_sm.fittedvalues, abs_sqrt_resid)\n",
    "# plt.axhline(np.mean(abs_sqrt_resid), color='gray', linestyle='--')\n",
    "# plt.xlabel(\"Fitted values\")\n",
    "# plt.ylabel(\"√|Standardized Residuals|\")\n",
    "# plt.title(\"Scale-Location\")\n",
    "# plt.show()\n",
    "\n",
    "# Residuals vs Leverage + Cook's D threshold\n",
    "# leverage = influence.hat_matrix_diag\n",
    "# stud_resid = influence.resid_studentized_external\n",
    "# cooks_d = influence.cooks_distance[0]\n",
    "# n = len(model_sm.model.endog)\n",
    "# thresh = 4 / n\n",
    "#\n",
    "# plt.scatter(leverage, stud_resid, s=1000 * cooks_d, alpha=0.5)\n",
    "# plt.axhline(0, color='gray', linestyle='--')\n",
    "# plt.axhline(2, color='red', linestyle='--')\n",
    "# plt.axhline(-2, color='red', linestyle='--')\n",
    "# plt.axvline(thresh, color='red', linestyle='--')\n",
    "# plt.text(thresh, plt.ylim()[1]*0.9, f\"Cook's D ≈ {thresh:.3f}\", color='red')\n",
    "# plt.xlabel(\"Leverage\")\n",
    "# plt.ylabel(\"Studentized Residuals\")\n",
    "# plt.title(\"Residuals vs Leverage\")\n",
    "# plt.show()\n",
    "\n"
   ],
   "id": "951d81a5b0da254d",
   "outputs": [],
   "execution_count": 9
  },
  {
   "metadata": {},
   "cell_type": "code",
   "outputs": [],
   "execution_count": null,
   "source": [
    "## Objašnjenja\n",
    "\n",
    "# Prvi grafikon, Reziduali u odnosu na predviđene vrednosti, koristi se za proveru da li je pretpostavka o linearnoj vezi ispunjena (Pretpostavka 1). Obrazac može da se pojavi na ovom grafikonu ukoliko postoji nelinearna veza između zavisne i nezavisne promenljive. Ako su reziduali jednako raspoređeni oko horizontalne linije bez jasnog obrasca, to ukazuje da nema nelinearnih veza. U tom slučaju, grafikon potvrđuje linearnu vezu između prediktora i ciljne promenljive.\n",
    "\n",
    "# Drugi grafikon, Normalni Q-Q dijagram, govori nam da li su reziduali normalno distribuirani (Pretpostavka 2). Reziduali bi trebalo da leže duž isprekidane dijagonalne linije. U ovom slučaju, primećujemo blago odstupanje od dijagonale, a samim tim i od normalne distribucije.\n",
    "\n",
    "# Treći grafikon, Scale-Location, koristi se za proveru pretpostavke o jednakosti varijanse reziduala, tj. homoskedastičnosti (Pretpostavka 3). Poželjno je da tačke deluju kao da su nasumično raspoređene iznad i ispod horizontalne linije. U ovom slučaju, varijansa reziduala izgleda da se menja, pa pretpostavka nije ispunjena.\n",
    "\n",
    "# Četvrti grafikon, Reziduali u odnosu na Leverage, koristi se za identifikaciju postojanja uticajnih tačaka (Pretpostavka 4). Njihovo prisustvo može ozbiljno da utiče na procenu regresionih koeficijenata. Tipično se pojavljuju u uglovima grafa, tj. izvan isprekidane linije koja predstavlja Cook’s distance. U ovom slučaju, postoji više takvih posmatranja.\n",
    "\n"
   ],
   "id": "3f7a1048ef6c9a8c"
  }
 ],
 "metadata": {
  "kernelspec": {
   "display_name": "Python 3",
   "language": "python",
   "name": "python3"
  },
  "language_info": {
   "codemirror_mode": {
    "name": "ipython",
    "version": 2
   },
   "file_extension": ".py",
   "mimetype": "text/x-python",
   "name": "python",
   "nbconvert_exporter": "python",
   "pygments_lexer": "ipython2",
   "version": "2.7.6"
  }
 },
 "nbformat": 4,
 "nbformat_minor": 5
}
